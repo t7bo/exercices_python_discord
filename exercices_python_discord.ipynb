{
 "cells": [
  {
   "cell_type": "markdown",
   "metadata": {
    "vscode": {
     "languageId": "plaintext"
    }
   },
   "source": [
    "# EXERCICES PYTHON - DISCORD (SIMPLON, Octobre 2023)"
   ]
  },
  {
   "cell_type": "code",
   "execution_count": null,
   "metadata": {},
   "outputs": [
    {
     "data": {
      "text/plain": [
       "'/home/utilisateur/Documents/projets/introduction_python/python-course'"
      ]
     },
     "metadata": {},
     "output_type": "display_data"
    }
   ],
   "source": [
    "# Exercice 25 écrire un programme qui affiche le dossier dans lequel se trouve ce fichier\n",
    "import os \n",
    "os.getcwd()"
   ]
  },
  {
   "cell_type": "code",
   "execution_count": null,
   "metadata": {},
   "outputs": [
    {
     "data": {
      "text/plain": [
       "[2, 3, 4, 5]"
      ]
     },
     "metadata": {},
     "output_type": "display_data"
    }
   ],
   "source": [
    "# Exercice 26 : supprimer un élément d'une liste\n",
    "L = [i for i in range(1,6)]\n",
    "del L[0]\n",
    "L"
   ]
  },
  {
   "cell_type": "code",
   "execution_count": null,
   "metadata": {},
   "outputs": [
    {
     "name": "stdout",
     "output_type": "stream",
     "text": [
      "('activate', '.txt')\n",
      "File Name:  activate\n",
      "File Extension:  .txt\n"
     ]
    }
   ],
   "source": [
    "# Exercice 27 : récupérer l'extension d'un fichier\n",
    "\n",
    "# this will return a tuple of root and extension\n",
    "split_tup = os.path.splitext('activate.txt')\n",
    "print(split_tup)\n",
    " \n",
    "# extract the file name and extension\n",
    "file_name = split_tup[0]\n",
    "file_extension = split_tup[1]\n",
    " \n",
    "print(\"File Name: \", file_name)\n",
    "print(\"File Extension: \", file_extension)"
   ]
  },
  {
   "cell_type": "code",
   "execution_count": null,
   "metadata": {},
   "outputs": [
    {
     "name": "stdout",
     "output_type": "stream",
     "text": [
      "8 x 0 = 0\n",
      "8 x 1 = 8\n",
      "8 x 2 = 16\n",
      "8 x 3 = 24\n",
      "8 x 4 = 32\n",
      "8 x 5 = 40\n",
      "8 x 6 = 48\n",
      "8 x 7 = 56\n",
      "8 x 8 = 64\n",
      "8 x 9 = 72\n",
      "8 x 10 = 80\n",
      "Temps d'éxecution du script : 0.017 secondes\n"
     ]
    }
   ],
   "source": [
    "# Exercice 28 : Calculer le temps d'éxecution du script de l'exo 24\n",
    "\n",
    "# script exercice 24\n",
    "table_de_huit = [print(\"8 x\", i, \"=\", 8*i) for i in range (0, 11)]\n",
    "\n",
    "import timeit\n",
    "print(f\"Temps d'éxecution du script : {round(timeit.timeit(stmt='pass'), 3)} secondes\")\n"
   ]
  },
  {
   "cell_type": "code",
   "execution_count": null,
   "metadata": {},
   "outputs": [
    {
     "data": {
      "text/plain": [
       "[2, 6, 'd', 'a', 8, 3, 'ch']"
      ]
     },
     "metadata": {},
     "output_type": "display_data"
    }
   ],
   "source": [
    "# Exercice 29 : Mélanger aléatoirement les éléments d'une liste\n",
    "\n",
    "L = [3, 6, 8, 2, \"a\", \"ch\", \"d\"] #liste initiale\n",
    "#L_melangee = L[:] #copie des éléments de L dans une nouvelle liste si on veut garder la liste initiale\n",
    "\n",
    "import random \n",
    "random.shuffle(L) #fonction random.shuffle() permet de mélanger aléatoirement les éléments d'une liste\n",
    "L"
   ]
  },
  {
   "cell_type": "code",
   "execution_count": null,
   "metadata": {},
   "outputs": [
    {
     "data": {
      "text/plain": [
       "29"
      ]
     },
     "metadata": {},
     "output_type": "display_data"
    }
   ],
   "source": [
    "# Exercice 30 : Générer aléatoirement un nombre\n",
    "\n",
    "from random import randint\n",
    "nombre_aleatoire = random.randint(20,30)\n",
    "nombre_aleatoire"
   ]
  },
  {
   "cell_type": "code",
   "execution_count": null,
   "metadata": {},
   "outputs": [
    {
     "name": "stdout",
     "output_type": "stream",
     "text": [
      "5 6 7 8 9 10 11 12 13 14 15 16 17 18 19 20\n",
      "5 6 7 8 9 10 11 12 13 14 15 16 17 18 19 20\n",
      "5 6 7 8 9 10 11 12 13 14 15 16 17 18 19 20\n",
      "5 6 7 8 9 10 11 12 13 14 15 16 17 18 19 20\n",
      "5 6 7 8 9 10 11 12 13 14 15 16 17 18 19 20\n",
      "5 6 7 8 9 10 11 12 13 14 15 16 17 18 19 20\n",
      "5 6 7 8 9 10 11 12 13 14 15 16 17 18 19 20\n",
      "5 6 7 8 9 10 11 12 13 14 15 16 17 18 19 20\n"
     ]
    }
   ],
   "source": [
    "# Exercice 31 : Affichage de motifs\n",
    "\n",
    "L = [i for i in range(5, 21)]\n",
    "L2 = \" \".join(str(i) for i in L) #utiliser .join() pour remplacer les \",\" par des \" \"\n",
    "#et convertir i en string pour que la fonction fonctionne\n",
    "\n",
    "for i in range(8):\n",
    "    print(L2)"
   ]
  },
  {
   "cell_type": "code",
   "execution_count": null,
   "metadata": {},
   "outputs": [
    {
     "data": {
      "text/plain": [
       "[1, 2, 3, 4, 5, 6, 7, 8]"
      ]
     },
     "metadata": {},
     "output_type": "display_data"
    }
   ],
   "source": [
    "# Exercice 32 : créer une liste qui contient les éléments d'une autre liste divisés par 3\n",
    "\n",
    "L = [3, 6, 9, 12, 15, 18, 21, 24]\n",
    "L1 = [int(i/3) for i in L]\n",
    "L1"
   ]
  },
  {
   "cell_type": "code",
   "execution_count": null,
   "metadata": {},
   "outputs": [
    {
     "data": {
      "text/plain": [
       "[8]"
      ]
     },
     "metadata": {},
     "output_type": "display_data"
    }
   ],
   "source": [
    "# Exercice 33 : créer une liste qui contient les élements d'une autre liste qui sont > 0\n",
    "\n",
    "L = [-6.5, -3, -1.2, 8, -3.6]\n",
    "L1 = [i for i in L if i > 0]\n",
    "L1"
   ]
  },
  {
   "cell_type": "code",
   "execution_count": null,
   "metadata": {},
   "outputs": [
    {
     "name": "stdout",
     "output_type": "stream",
     "text": [
      "a = 2, b = 7, x = 2\n",
      "39\n"
     ]
    }
   ],
   "source": [
    "# Exercice 34 : Fonction mathématique\n",
    "\n",
    "from random import randint\n",
    "a, b, x = random.randint(1,10), random.randint(1,10), random.randint(1,5)\n",
    "\n",
    "def f(a,b,x):\n",
    "    resultat = a * (x ** 3) + 2 * a * (x ** 2) + b\n",
    "    return resultat\n",
    "\n",
    "print(f\"a = {a}, b = {b}, x = {x}\")\n",
    "print(f(a,b,x))"
   ]
  },
  {
   "cell_type": "code",
   "execution_count": null,
   "metadata": {},
   "outputs": [
    {
     "name": "stdout",
     "output_type": "stream",
     "text": [
      "True\n"
     ]
    }
   ],
   "source": [
    "#Exercice 35 : Vérifier la présence d'un élément dans une liste\n",
    "\n",
    "a = random.randint(0, 50)\n",
    "L = [i for i in range(50)]\n",
    "\n",
    "def verifPresence(a,L):\n",
    "    if a in L:\n",
    "        return True\n",
    "    else: \n",
    "        return False\n",
    "    \n",
    "print(verifPresence(a,L))"
   ]
  },
  {
   "cell_type": "code",
   "execution_count": null,
   "metadata": {},
   "outputs": [
    {
     "name": "stdout",
     "output_type": "stream",
     "text": [
      "[1, 2, 3, 4]\n"
     ]
    },
    {
     "data": {
      "text/plain": [
       "10"
      ]
     },
     "metadata": {},
     "output_type": "display_data"
    }
   ],
   "source": [
    "#Exercice 36 : Calcul de la somme des chiffres\n",
    "\n",
    "numbers = 1234\n",
    "\n",
    "# Convertir le nombre en liste d'entiers\n",
    "liste_chiffres = [int(number) for number in str(numbers)]\n",
    "print(liste_chiffres)\n",
    "\n",
    "#faire l'addition sur la liste\n",
    "somme = sum(liste_chiffres)\n",
    "somme"
   ]
  },
  {
   "cell_type": "code",
   "execution_count": null,
   "metadata": {},
   "outputs": [
    {
     "data": {
      "text/plain": [
       "10"
      ]
     },
     "metadata": {},
     "output_type": "display_data"
    }
   ],
   "source": [
    "#Exercice 37 : Somme d'une liste\n",
    "\n",
    "L = [i for i in range(1,5)]\n",
    "\n",
    "def calculSomme(L):\n",
    "    return sum(L)\n",
    "\n",
    "calculSomme(L)\n"
   ]
  },
  {
   "cell_type": "code",
   "execution_count": null,
   "metadata": {},
   "outputs": [
    {
     "name": "stdout",
     "output_type": "stream",
     "text": [
      "[1, 2, 3, 4, 5, 6, 7, 8, 9]\n"
     ]
    }
   ],
   "source": [
    "# Exercice 38 : Suppression des doublons et ordre croissant >>> grâce aux sets\n",
    "\n",
    "L = [i for i in range(1,10)]*2 #*2 pour avoir deux fois les mêmes chiffres dans la liste\n",
    "L_sans_doublons = list(set(L)) #convertir la liste en set pour supprimer les doublons avant de la reconvertir en liste\n",
    "print(sorted(L_sans_doublons))"
   ]
  },
  {
   "cell_type": "code",
   "execution_count": null,
   "metadata": {},
   "outputs": [
    {
     "name": "stdout",
     "output_type": "stream",
     "text": [
      "{'Saadia': 30, 'Théo': 5, 'Tibo': 29}\n"
     ]
    }
   ],
   "source": [
    "# Exercice 39 : Ajouts d'éléments dans un dictionnaire\n",
    "d = {\"Saadia\" : 30, \"Théo\" : 5}\n",
    "cle, valeur = \"Tibo\", 29\n",
    "def ajoutElementDict(cle, valeur, d):\n",
    "    d.update({cle : valeur})\n",
    "    return d\n",
    "print(ajoutElementDict(cle,valeur,d))"
   ]
  },
  {
   "cell_type": "code",
   "execution_count": null,
   "metadata": {},
   "outputs": [
    {
     "data": {
      "text/plain": [
       "59"
      ]
     },
     "metadata": {},
     "output_type": "display_data"
    }
   ],
   "source": [
    "# Exercice 40 : Recréation de la fonction MAX\n",
    "\n",
    "L = [i for i in range(-20, 60)]\n",
    "\n",
    "def maximum(L):\n",
    "    #return max(L)\n",
    "    L_ordonnee = sorted(L)\n",
    "    return L_ordonnee[-1]\n",
    "\n",
    "maximum(L)"
   ]
  },
  {
   "cell_type": "code",
   "execution_count": null,
   "metadata": {},
   "outputs": [
    {
     "name": "stdout",
     "output_type": "stream",
     "text": [
      "465\n",
      "Liste de nombres : [1, 2, 3, 4, 5, 6, 7, 8, 9, 10, 11, 12, 13, 14, 15, 16, 17, 18, 19, 20, 21, 22, 23, 24, 25, 26, 27, 28, 29, 30]\n",
      "ci-dessus : somme des nombres entre l'indice 3 et l'indice 23\n"
     ]
    }
   ],
   "source": [
    "# Exercice 41 : Somme d'une sous-liste\n",
    "L = [i for i in range (1,31)]\n",
    "i, j = random.randint(1, 10), random.randint(20, 31)\n",
    "def sommeSousListe(L,i,j):\n",
    "    for element in L:\n",
    "        if element > i and element < j:\n",
    "            return sum(L)\n",
    "print(sommeSousListe(L,i,j))\n",
    "\n",
    "print(f\"Liste de nombres : {L}\")\n",
    "print(f\"ci-dessus : somme des nombres entre l'indice {i} et l'indice {j}\")"
   ]
  },
  {
   "cell_type": "code",
   "execution_count": null,
   "metadata": {},
   "outputs": [
    {
     "name": "stdout",
     "output_type": "stream",
     "text": [
      "*\n",
      "**\n",
      "****\n",
      "********\n",
      "****************\n",
      "********************************\n"
     ]
    }
   ],
   "source": [
    "# Exercice 42 : Motifs\n",
    "\n",
    "ligne = 0\n",
    "etoile = \"*\"\n",
    "\n",
    "while ligne < 6:\n",
    "    print(str(etoile))\n",
    "    ligne +=1\n",
    "    etoile += etoile"
   ]
  },
  {
   "cell_type": "code",
   "execution_count": null,
   "metadata": {},
   "outputs": [
    {
     "name": "stdout",
     "output_type": "stream",
     "text": [
      "-20\n"
     ]
    }
   ],
   "source": [
    "# Exercice 43 : Recréation de la fonction MIN\n",
    "\n",
    "L = [i for i in range(-20,60)]\n",
    "\n",
    "def minimum(L):\n",
    "    #return max(L)\n",
    "    L_ordonnee = sorted(L)\n",
    "    return L_ordonnee[0]\n",
    "\n",
    "print(minimum(L))\n"
   ]
  },
  {
   "cell_type": "code",
   "execution_count": null,
   "metadata": {},
   "outputs": [
    {
     "name": "stdout",
     "output_type": "stream",
     "text": [
      "80\n"
     ]
    }
   ],
   "source": [
    "# Exercice 44 : Recréation de la fonction LEN\n",
    "\n",
    "def longueur(L):\n",
    "    #return len(L)\n",
    "    somme = [i+=1 for i in somme if L != []]\n",
    "    somme\n",
    "\n",
    "print(longueur(L))\n"
   ]
  },
  {
   "cell_type": "code",
   "execution_count": null,
   "metadata": {},
   "outputs": [
    {
     "name": "stdout",
     "output_type": "stream",
     "text": [
      "3.0\n"
     ]
    }
   ],
   "source": [
    "# Exercice 45 : Calcul de la moyenne d'une liste\n",
    "L = [1, 2, 3, 4, 5]\n",
    "def moyenneListe(L):\n",
    "    moyenne = sum(L) / len(L)\n",
    "    return moyenne\n",
    "print(moyenneListe(L))"
   ]
  },
  {
   "cell_type": "code",
   "execution_count": null,
   "metadata": {},
   "outputs": [
    {
     "name": "stdout",
     "output_type": "stream",
     "text": [
      "[1, 2, 5, 10]\n",
      "nombre aléatoire : 10\n"
     ]
    }
   ],
   "source": [
    "# Exercice 46 : Les diviseurs d'un nb entier\n",
    "import random\n",
    "n = 10\n",
    "def diviseur(n):\n",
    "    L = []\n",
    "    for i in range(1,n+1):\n",
    "        if n%i == 0:\n",
    "            L.append(i)\n",
    "    return sorted(L)\n",
    "print(diviseur(n))\n",
    "print(f\"nombre aléatoire : {n}\")"
   ]
  },
  {
   "cell_type": "code",
   "execution_count": null,
   "metadata": {},
   "outputs": [
    {
     "name": "stdout",
     "output_type": "stream",
     "text": [
      "True\n"
     ]
    }
   ],
   "source": [
    "# Exercice 47 : Verification de majuscule\n",
    "phrase = \"Salut ça va?\"\n",
    "def verifMaj(phrase):\n",
    "    if phrase.islower() is True:\n",
    "        return False\n",
    "    else:\n",
    "        return True\n",
    "        \n",
    "print(verifMaj(phrase))"
   ]
  },
  {
   "cell_type": "code",
   "execution_count": null,
   "metadata": {},
   "outputs": [
    {
     "name": "stdout",
     "output_type": "stream",
     "text": [
      "[1, 2, 3, 4, 5, 'a', 'b', 'c', 'd', 'e', 12.1, 13.2, 14.5, 16.5, 17.6]\n"
     ]
    }
   ],
   "source": [
    "# Exercice 48 : Concaténation de listes\n",
    "L1, L2, L3 = [1, 2, 3, 4, 5], [\"a\", \"b\", \"c\", \"d\", \"e\"], [12.1, 13.2, 14.5, 16.5, 17.6]\n",
    "def concatListes(L1,L2,L3):\n",
    "    L4 = L1 + L2 + L3\n",
    "    return L4\n",
    "print(concatListes(L1,L2,L3))"
   ]
  },
  {
   "cell_type": "code",
   "execution_count": null,
   "metadata": {},
   "outputs": [],
   "source": [
    "# Exercices 49 à 52 inclus (pas dispos)"
   ]
  },
  {
   "cell_type": "code",
   "execution_count": null,
   "metadata": {},
   "outputs": [
    {
     "name": "stdout",
     "output_type": "stream",
     "text": [
      "False\n"
     ]
    }
   ],
   "source": [
    "# Exercice 53 : Présence d'une voyelle dans une chaîne\n",
    "phrase = \"zzzzzz\"\n",
    "def presenceVoyelle(phrase):\n",
    "    voyelles = [\"a\", \"e\", \"i\", \"o\", \"u\", \"y\"]\n",
    "    if len(set(voyelles) & set(phrase)) != 0:\n",
    "        return True\n",
    "    else:\n",
    "        return False\n",
    "\n",
    "print(presenceVoyelle(phrase))"
   ]
  },
  {
   "cell_type": "code",
   "execution_count": null,
   "metadata": {},
   "outputs": [
    {
     "name": "stdout",
     "output_type": "stream",
     "text": [
      "saluttuvasbien?\n"
     ]
    }
   ],
   "source": [
    "# Exercice 54 : Suppression des espaces dans une phrase\n",
    "phrase = \"salut tu vas bien?\"\n",
    "def supprEspace(phrase):\n",
    "    return \"\".join(phrase.split(\" \"))\n",
    "print(supprEspace(phrase))"
   ]
  },
  {
   "cell_type": "code",
   "execution_count": null,
   "metadata": {},
   "outputs": [
    {
     "name": "stdout",
     "output_type": "stream",
     "text": [
      "[4]\n",
      "Voici l'indice de l'élément 5 dans la liste : [1, 2, 3, 4, 5, 6, 7, 8, 9, 10]\n"
     ]
    }
   ],
   "source": [
    "# Exercice 55 : Position d'un élément dans une liste\n",
    "L = [i for i in range(1,11)]\n",
    "x = int(input(\"Entre un nombre entre 1 et 10 : \")) \n",
    "def positionElementListe(L,x):\n",
    "    if x not in L:\n",
    "        return \"L'élement n'est pas dans la liste\"\n",
    "    else:\n",
    "        position = [i for i in range(len(L)) if L[i] == x]\n",
    "        #return L.index(x)\n",
    "        return position\n",
    "print(positionElementListe(L,x))\n",
    "print(f\"Voici l'indice de l'élément {x} dans la liste : {L}\")"
   ]
  },
  {
   "cell_type": "code",
   "execution_count": null,
   "metadata": {},
   "outputs": [
    {
     "name": "stdout",
     "output_type": "stream",
     "text": [
      "comme\n",
      "camion\n",
      "('tu es beau comme un camion', 4)\n"
     ]
    }
   ],
   "source": [
    "# Exercice 56 : Filtrer les mots suivant leurs longueurs\n",
    "phrase = \"tu es beau comme un camion\"\n",
    "longueurMini = 4\n",
    "def filtreMots(phrase,longueurMini):\n",
    "    for mot in phrase.split(\" \"):\n",
    "        if len(mot) > longueurMini:\n",
    "            print(mot)\n",
    "    return phrase, longueurMini\n",
    "print(filtreMots(phrase,longueurMini))"
   ]
  },
  {
   "cell_type": "code",
   "execution_count": null,
   "metadata": {},
   "outputs": [],
   "source": [
    "# Exercice 57 & Exercice 58 > PAS DISPOS"
   ]
  },
  {
   "cell_type": "code",
   "execution_count": null,
   "metadata": {},
   "outputs": [
    {
     "name": "stdout",
     "output_type": "stream",
     "text": [
      "[1, 2, 3, 4, 5, 6, 7, 8]\n"
     ]
    }
   ],
   "source": [
    "# Exercice 59 : Union des listes sans duplication\n",
    "L1,L2,L3 = [1, 2, 3, 4], [1, 3, 5, 7], [2, 4, 6, 8]\n",
    "def unionListe(L1,L2,L3):\n",
    "    union = set(L1) | set(L2) | set(L3)\n",
    "    L4 = sorted(list(union))\n",
    "    return L4\n",
    "print(unionListe(L1,L2,L3))"
   ]
  },
  {
   "cell_type": "code",
   "execution_count": null,
   "metadata": {},
   "outputs": [
    {
     "name": "stdout",
     "output_type": "stream",
     "text": [
      "5\n"
     ]
    }
   ],
   "source": [
    "# Exercice 60 : Calcul du PGCD\n",
    "a, b = 5, 15\n",
    "def calculPGCD(a,b):\n",
    "    q = a/b\n",
    "    r = a%b\n",
    "    while b != 0:\n",
    "        a, b = b, a % b\n",
    "    return a \n",
    "print(calculPGCD(a,b))"
   ]
  },
  {
   "cell_type": "code",
   "execution_count": null,
   "metadata": {},
   "outputs": [
    {
     "name": "stdout",
     "output_type": "stream",
     "text": [
      "Bravo ! Exercice réussi !\n"
     ]
    }
   ],
   "source": [
    "# Exercice 61 : Lecture d'un fichier\n",
    "import os \n",
    "file_name = \"exercice61.txt\"\n",
    "current_directory = os.getcwd()\n",
    "cheminFichier = os.path.join(current_directory, file_name)\n",
    "\n",
    "def lireFichier(cheminFichier):\n",
    "    with open(cheminFichier, 'r') as file:\n",
    "        return file.read()\n",
    "print(lireFichier(cheminFichier))"
   ]
  },
  {
   "cell_type": "code",
   "execution_count": null,
   "metadata": {},
   "outputs": [
    {
     "name": "stdout",
     "output_type": "stream",
     "text": [
      "(1, \"Le mot 'veau' apparaît 1 fois dans le fichier exercice61.txt\")\n"
     ]
    }
   ],
   "source": [
    "# Exercice 62 : Nb d'occurences d'un mot dans un fichier\n",
    "mot_a_verif = \"veau\"\n",
    "import os \n",
    "file_name = \"exercice61.txt\"\n",
    "current_directory = os.getcwd()\n",
    "cheminFichier = os.path.join(current_directory, file_name)\n",
    "def nbOccFichier(cheminFichier,mot):\n",
    "    liste_verif = []\n",
    "    with open(cheminFichier, 'r') as file:\n",
    "        for line in file:\n",
    "            mots = line.split()\n",
    "            for word in mots:\n",
    "                if word.lower() == mot_a_verif.lower():\n",
    "                    liste_verif.append(mot_a_verif)\n",
    "                    nb_occurences = len(liste_verif)\n",
    "        return nb_occurences, f\"Le mot '{mot_a_verif}' apparaît {nb_occurences} fois dans le fichier {file_name}\"\n",
    "print(nbOccFichier(cheminFichier,mot_a_verif))"
   ]
  },
  {
   "cell_type": "code",
   "execution_count": null,
   "metadata": {},
   "outputs": [
    {
     "name": "stdout",
     "output_type": "stream",
     "text": [
      "Bravo  Exercice réussi  Bravo le veau  123\n"
     ]
    }
   ],
   "source": [
    "# Exercice 63 : Supprimer un caractère d'un fichier\n",
    "caractere = \"!\"\n",
    "import os \n",
    "file_name = \"exercice61.txt\"\n",
    "current_directory = os.getcwd()\n",
    "cheminFichier = os.path.join(current_directory, file_name)\n",
    "def supprCaractere(cheminFichier,caractere):\n",
    "    with open(cheminFichier, 'r') as file:\n",
    "        for line in file:\n",
    "            characters = [i for i in line]\n",
    "            for j in characters:\n",
    "                if j.lower() == caractere.lower():\n",
    "                    characters.remove(j)\n",
    "        return \"\".join(characters)\n",
    "print(supprCaractere(cheminFichier,caractere))"
   ]
  },
  {
   "cell_type": "code",
   "execution_count": null,
   "metadata": {},
   "outputs": [
    {
     "name": "stdout",
     "output_type": "stream",
     "text": [
      "True\n",
      "False\n"
     ]
    }
   ],
   "source": [
    "# Exercice 64 : Pésence d'un nombre dans un fichier\n",
    "import os \n",
    "file_name = \"exercice61.txt\"\n",
    "file_name2 = \"exercice61bis.txt\"\n",
    "current_directory = os.getcwd()\n",
    "cheminFichier = os.path.join(current_directory, file_name)\n",
    "cheminFichier2 = os.path.join(current_directory, file_name2)\n",
    "\n",
    "\n",
    "def presenceNombre(cheminFichier):\n",
    "    with open(cheminFichier, \"r\") as file:\n",
    "        for line in file:\n",
    "            characters = [i for i in line]\n",
    "            for j in characters:\n",
    "                if j.isdigit() == True:\n",
    "                    return True\n",
    "            else:\n",
    "                return False\n",
    "print(presenceNombre(cheminFichier))\n",
    "print(presenceNombre(cheminFichier2))"
   ]
  },
  {
   "cell_type": "code",
   "execution_count": null,
   "metadata": {},
   "outputs": [
    {
     "name": "stdout",
     "output_type": "stream",
     "text": [
      "25\n",
      "['0 - Installation Python.pptx', 'exercice61bis.txt', '5b-lambda.ipynb', 'venv', '.git', '6-les-packages.ipynb', 'child_folder', 'hello.py', '.gitignore', 'exercice61.txt', 'oop', '1-introduction.ipynb', '5-Les_fonctions.ipynb', 'other_folder', 'readme.md', 'exos.ipynb', '3-data-structures.ipynb', '2-les-variables.ipynb', 'Same_level.py', 'hello.ipynb', '.vscode', '7-Github.ipynb', 'exercice_package', '5c-le_typage.ipynb', '4-les_conditions_et_les_boucles.ipynb']\n"
     ]
    }
   ],
   "source": [
    "# Exercice 65 : nb de fichiers dans un dossier\n",
    "current_directory = os.getcwd()\n",
    "cheminDossier = os.path.join(current_directory)\n",
    "\n",
    "def nombreFichier(cheminDossier):\n",
    "    return len(os.listdir(cheminDossier)) #nombre de fichiers\n",
    "\n",
    "print(nombreFichier(cheminDossier))\n",
    "print(os.listdir(cheminDossier))"
   ]
  },
  {
   "cell_type": "code",
   "execution_count": null,
   "metadata": {},
   "outputs": [
    {
     "name": "stdout",
     "output_type": "stream",
     "text": [
      "Votre texte a été ajouté au fichier exercice61bis.txt avec succès !\n"
     ]
    }
   ],
   "source": [
    "# Exercice 66 : Ecrire dans un fichier\n",
    "nom_fichier = \"exercice61bis.txt\"\n",
    "texte = \"ça farte?\"\n",
    "chemin_file = os.path.join(current_directory, nom_fichier)\n",
    "\n",
    "def ecrireFichier(nom_fichier,texte):\n",
    "    with open(chemin_file, \"a\") as file: #r = read, w = write, a = ajout si le fichier existe déjà\n",
    "        file.write(texte)\n",
    "        return f\"Votre texte a été ajouté au fichier {nom_fichier} avec succès !\"\n",
    "print(ecrireFichier(nom_fichier,texte))"
   ]
  },
  {
   "cell_type": "code",
   "execution_count": null,
   "metadata": {},
   "outputs": [
    {
     "name": "stdout",
     "output_type": "stream",
     "text": [
      "b\n"
     ]
    }
   ],
   "source": [
    "# Exercice 67 : La clé avec le nb de valeurs uniques maximales ?\n",
    "d = {\"a\" : (1,2,3,1,2,2), \"b\" : (1,2,3,4,5,6), \"c\" : (1,1,1,1,1,1)}\n",
    "def cleMaxValeurDict(d):\n",
    "    cles = list(d.keys())\n",
    "    set1, set2, set3 = len(set(d[\"a\"])), len(set(d[\"b\"])), len(set(d[\"c\"]))\n",
    "    if set1 > set2 and set1 > set3:\n",
    "        return cles[0]\n",
    "    elif set2 > set1 and set2 > set3:\n",
    "        return cles[1]\n",
    "    elif set3 > set1 and set3 > set1:\n",
    "        return cles[2]\n",
    "   \n",
    "print(cleMaxValeurDict(d))"
   ]
  },
  {
   "cell_type": "code",
   "execution_count": null,
   "metadata": {},
   "outputs": [
    {
     "name": "stdout",
     "output_type": "stream",
     "text": [
      "['1', '15', '45', '16', '90']\n"
     ]
    }
   ],
   "source": [
    "# Exercice 68 : Demander une liste à l'utilisateur\n",
    "liste_utilisateur = input(\"Donne moi une liste d'entiers : \")\n",
    "def liste_entiers(liste_utilisateur):\n",
    "    return list(\"\".join(liste_utilisateur).split())\n",
    "print(liste_entiers(liste_utilisateur))"
   ]
  },
  {
   "cell_type": "code",
   "execution_count": null,
   "metadata": {},
   "outputs": [
    {
     "name": "stdout",
     "output_type": "stream",
     "text": [
      "relativedelta(months=+6, days=+11, hours=+13, minutes=+30)\n",
      "6 mois de différence, 11 jours de différence et 13 heures de différence etentre les deux dates.\n"
     ]
    }
   ],
   "source": [
    "# Exercice 69 : Nb de jours et d'heures\n",
    "from datetime import datetime\n",
    "from dateutil.relativedelta import relativedelta\n",
    "\n",
    "# Créer un objet de date spécifique (année, mois, jour, heure, minute, seconde)\n",
    "dateDebut = datetime(2022, 12, 25, 22, 30, 0)\n",
    "dateFin = datetime(2023, 7, 7, 12, 0, 0)\n",
    "\n",
    "def nbrJourHeure(dateDebut,dateFin):\n",
    "    difference = relativedelta(dateFin, dateDebut)\n",
    "    print(difference)\n",
    "    return f\"{difference.months} mois de différence, {difference.days} jours de différence et {difference.hours} heures de différence etentre les deux dates.\"\n",
    "\n",
    "print(nbrJourHeure(dateDebut,dateFin))"
   ]
  },
  {
   "cell_type": "code",
   "execution_count": null,
   "metadata": {},
   "outputs": [
    {
     "name": "stdout",
     "output_type": "stream",
     "text": [
      "1a!180escargot=\n"
     ]
    }
   ],
   "source": [
    "# Exercice 70 : Générer aléatoirement un mdp\n",
    "import random\n",
    "caracteres = [1, \"a\", 18, \"escargot\", \"!\", \"=\" , 0]\n",
    "tailleMDP = len(caracteres)\n",
    "def genererMDP(caracteres,tailleMDP):\n",
    "    random.shuffle(caracteres)\n",
    "    mdp = \"\".join(str(c) for c in caracteres) #remplace tous les join et split effectués par la suite (en commentaires)\n",
    "    #new_caracteres = \"\".join(str(caracteres).split(\",\"))\n",
    "    #newnew_caracteres = \"\".join(str(new_caracteres).split(\"'\"))\n",
    "    #newnewnew_caracteres = \"\".join(str(newnew_caracteres).split(\" \"))\n",
    "    #random.shuffle(list(newnewnew_caracteres))\n",
    "    return mdp\n",
    "print(genererMDP(caracteres,tailleMDP))"
   ]
  },
  {
   "cell_type": "code",
   "execution_count": null,
   "metadata": {},
   "outputs": [
    {
     "ename": "SyntaxError",
     "evalue": "incomplete input (1928444765.py, line 7)",
     "output_type": "error",
     "traceback": [
      "\u001b[0;36m  Cell \u001b[0;32mIn[580], line 7\u001b[0;36m\u001b[0m\n",
      "\u001b[0;31m    \u001b[0m\n",
      "\u001b[0m    ^\u001b[0m\n",
      "\u001b[0;31mSyntaxError\u001b[0m\u001b[0;31m:\u001b[0m incomplete input\n"
     ]
    }
   ],
   "source": [
    "# Exercice 71 : Fonction trigonométrique\n",
    "x = 0\n",
    "\n",
    "import math\n",
    "\n",
    "def foncTrigo(x):\n",
    "    f = \n"
   ]
  }
 ],
 "metadata": {
  "language_info": {
   "name": "python"
  }
 },
 "nbformat": 4,
 "nbformat_minor": 2
}
